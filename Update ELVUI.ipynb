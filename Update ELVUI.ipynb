{
 "cells": [
  {
   "cell_type": "markdown",
   "metadata": {},
   "source": [
    "### Requirements\n",
    "- pip install selenium\n",
    "- download chrome driver for the current version of Chrome - https://chromedriver.chromium.org/downloads\n",
    "- have ublock installed in chrome and locate the extension in your extensions folder"
   ]
  },
  {
   "cell_type": "code",
   "execution_count": 24,
   "metadata": {},
   "outputs": [],
   "source": [
    "from selenium import webdriver\n",
    "from selenium.webdriver.common.by import By\n",
    "from selenium.webdriver.support import expected_conditions as EC\n",
    "from selenium.webdriver.support.wait import WebDriverWait\n",
    "from selenium.webdriver.chrome.options import Options\n",
    "from selenium.webdriver import ChromeOptions\n",
    "import glob\n",
    "import os.path\n",
    "import zipfile\n",
    "\n",
    "# ELVUI Website\n",
    "website = \"https://www.tukui.org\"\n",
    "\n",
    "# Set Directories for where the file paths are for download and upload of files\n",
    "download_directory = r'C:\\Users\\DJ\\Downloads'\n",
    "wow_directory = r'H:\\World of Warcraft\\_retail_\\Interface\\AddOns'\n",
    "\n",
    "# Set Ublock extension location\n",
    "ublock = r'C:\\Users\\DJ\\AppData\\Local\\Google\\Chrome\\User Data\\Default\\Extensions\\cgbcahbpdhpcegmbfconppldiemgcoii\\1.41.5.0_3'\n",
    "\n",
    "# Set options to make sure there is no prompt for a download and load the ublock extension\n",
    "chrome_options = Options()\n",
    "\n",
    "chrome_options.add_experimental_option(\"prefs\", {\n",
    "  \"download.prompt_for_download\": False,\n",
    "  \"download.directory_upgrade\": True,\n",
    "  \"safebrowsing.enabled\": True\n",
    "})\n",
    "chrome_options.add_argument('load-extension=' + ublock)\n",
    "\n",
    "# Set Driver and load website\n",
    "driver = webdriver.Chrome(options=chrome_options)\n",
    "driver.get(website)\n",
    "\n",
    "# Locate the element to download the latest version of elvui\n",
    "driver.find_element_by_xpath(\"/html/body/div[2]/div/div/ul/li/div[4]/div/a[2]\").click()\n",
    "\n",
    "# Locate the latest zip file from the download directory\n",
    "folder_path = download_directory\n",
    "file_type = '\\*zip'\n",
    "files = glob.glob(folder_path + file_type)\n",
    "latest_download = max(files, key=os.path.getctime)\n",
    "\n",
    "# Unzip the file from the \n",
    "with zipfile.ZipFile(latest_download, 'r') as zip_ref:\n",
    "    zip_ref.extractall(wow_directory)"
   ]
  },
  {
   "cell_type": "code",
   "execution_count": null,
   "metadata": {},
   "outputs": [],
   "source": []
  }
 ],
 "metadata": {
  "kernelspec": {
   "display_name": "Python 3",
   "language": "python",
   "name": "python3"
  },
  "language_info": {
   "codemirror_mode": {
    "name": "ipython",
    "version": 3
   },
   "file_extension": ".py",
   "mimetype": "text/x-python",
   "name": "python",
   "nbconvert_exporter": "python",
   "pygments_lexer": "ipython3",
   "version": "3.7.1"
  }
 },
 "nbformat": 4,
 "nbformat_minor": 2
}
